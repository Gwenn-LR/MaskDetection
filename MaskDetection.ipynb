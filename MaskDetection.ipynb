{
 "cells": [
  {
   "cell_type": "markdown",
   "id": "3f659a5a",
   "metadata": {},
   "source": [
    "# Partie 1 : Base de données, Analyse et Préparation"
   ]
  },
  {
   "cell_type": "markdown",
   "id": "2b6c8eaf",
   "metadata": {},
   "source": [
    "## Manipulation des images."
   ]
  },
  {
   "cell_type": "code",
   "execution_count": null,
   "id": "46671e37",
   "metadata": {},
   "outputs": [],
   "source": []
  },
  {
   "cell_type": "markdown",
   "id": "d568b2c5",
   "metadata": {},
   "source": [
    "\n",
    "## Analyse, prétraitement et visualisation des images."
   ]
  },
  {
   "cell_type": "code",
   "execution_count": null,
   "id": "98f8d706",
   "metadata": {},
   "outputs": [],
   "source": []
  },
  {
   "cell_type": "markdown",
   "id": "6be49c58",
   "metadata": {},
   "source": [
    "Erreur :\n",
    ">```python\n",
    ">Exception has occurred: InvalidArgumentError\n",
    ">Unknown image file format. One of JPEG, PNG, GIF, BMP required.\n",
    ">\t [[{{node decode_image/DecodeImage}}]] [Op:IteratorGetNext]\n",
    ">```\n",
    "\n",
    "Solution : \n",
    ">https://stackoverflow.com/questions/68191448\n",
    "\n",
    "Résolution :\n",
    ">```\n",
    "> Mask_Data\\without_mask\\45e7f325306465-56343bff24656.jpg is not an image\n",
    "> Mask_Data\\without_mask\\4eb86725306465-56343c1478822.jpg is not an image\n",
    "> Mask_Data\\without_mask\\indian-ethnicity-cheerful-confident-studio-260nw-552325924.jpg is a webp, not accepted by TensorFlow\n",
    "> Mask_Data\\with_mask\\3-ply-tie-on-surgical-mask-yellow-500x500.jpg is not an image\n",
    "> Mask_Data\\with_mask\\FaceMasks--banner--GettyImages.jpg is not an image\n",
    "> Mask_Data\\with_mask\\grid-wide-surgical-mask-at752007.jpg is not an image\n",
    ">```"
   ]
  },
  {
   "cell_type": "markdown",
   "id": "88c25491",
   "metadata": {},
   "source": [
    "# Partie 2 : Architecture CNN sur Tensorflow​"
   ]
  },
  {
   "cell_type": "markdown",
   "id": "dfa8ec92",
   "metadata": {},
   "source": [
    "\n",
    "## Manipulation et l’exploitation de la Bibliothèque Tensorflow."
   ]
  },
  {
   "cell_type": "code",
   "execution_count": null,
   "id": "fcee1fda",
   "metadata": {},
   "outputs": [],
   "source": []
  },
  {
   "cell_type": "markdown",
   "id": "d2b85175",
   "metadata": {},
   "source": [
    "\n",
    "## Charger un modèle CNN à partir de Tensorflow."
   ]
  },
  {
   "cell_type": "code",
   "execution_count": null,
   "id": "91b7fb23",
   "metadata": {},
   "outputs": [],
   "source": []
  },
  {
   "cell_type": "markdown",
   "id": "abb2fb20",
   "metadata": {},
   "source": [
    "# Partie 3 : Application"
   ]
  },
  {
   "cell_type": "markdown",
   "id": "e31845b8",
   "metadata": {},
   "source": [
    "\n",
    "## Appliquer le Transfer Learning (sur VGG16)."
   ]
  },
  {
   "cell_type": "code",
   "execution_count": null,
   "id": "b76ba0f6",
   "metadata": {},
   "outputs": [],
   "source": []
  },
  {
   "cell_type": "markdown",
   "id": "8a2f31a0",
   "metadata": {},
   "source": [
    "\n",
    "## Faire des tests à partir de la webcam"
   ]
  },
  {
   "cell_type": "code",
   "execution_count": null,
   "id": "ecb22ef9",
   "metadata": {},
   "outputs": [],
   "source": []
  }
 ],
 "metadata": {
  "kernelspec": {
   "display_name": "Python 3 (ipykernel)",
   "language": "python",
   "name": "python3"
  },
  "language_info": {
   "codemirror_mode": {
    "name": "ipython",
    "version": 3
   },
   "file_extension": ".py",
   "mimetype": "text/x-python",
   "name": "python",
   "nbconvert_exporter": "python",
   "pygments_lexer": "ipython3",
   "version": "3.9.7"
  }
 },
 "nbformat": 4,
 "nbformat_minor": 5
}
